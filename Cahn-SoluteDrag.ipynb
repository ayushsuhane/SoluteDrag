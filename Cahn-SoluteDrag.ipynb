{
 "cells": [
  {
   "cell_type": "markdown",
   "metadata": {},
   "source": [
    "The aim of this notebook is to evaluate the solute drag effect in a binary substitutional alloy using Cahn's solute drag model. The composition at steady state is evaluated by solving a second order linear differential equation. This profile is then used to calculate the drag pressure for a given velocity. Similar procedure is adopted for different velocities to obtain the variation of drag pressure with velocity."
   ]
  },
  {
   "cell_type": "markdown",
   "metadata": {},
   "source": [
    "The equation solved are:\n",
    "Composition :\n",
    "\n",
    "$$ D\\frac{d^2c}{dx^2} + \\frac{dc}{dx}(\\frac{dD}{dx} + \\frac{D}{kT}\\frac{dE}{dx} + V) + \\frac{c}{kT}(\\frac{dD}{dx} \\frac{dE}{dx} + D\\frac{d^2E}{dx^2} = 0)$$\n",
    "\n",
    "Solute drag:\n",
    "$$ P_{sd} = \\frac{1}{V_m} \\int_{-\\infty}^{\\infty} (c - c_0)\\frac{dE}{dx}dx $$"
   ]
  },
  {
   "cell_type": "markdown",
   "metadata": {},
   "source": [
    "Diffusion is assumed to vary inside the interface i.e. high diffusion inside the boundary than the bulk, Energy barrier is assumed to be a sharp well with peak at the midpoint. "
   ]
  },
  {
   "cell_type": "code",
   "execution_count": 2,
   "metadata": {},
   "outputs": [],
   "source": [
    "import numpy as np"
   ]
  },
  {
   "cell_type": "code",
   "execution_count": 53,
   "metadata": {},
   "outputs": [],
   "source": [
    "class SoluteDrag(object):\n",
    "    \"\"\"\n",
    "    Defines an object to solve the composition \n",
    "    profile at steady state and solute drag force \n",
    "    for a given composition, diffusivity, energy profile.\n",
    "    \n",
    "    Parameters\n",
    "    -----------\n",
    "    composition : Initial bulk composition\n",
    "    Energy : Interaction potential\n",
    "    Diffusivity \n",
    "    Temperature\n",
    "\n",
    "    \"\"\"\n",
    "\n",
    "    def __init__(self, bulk_comp, length, gb_width, dx):\n",
    "        self.c0 = bulk_comp\n",
    "        self.dx = dx\n",
    "        self.length = length\n",
    "        self.npoints = self.length//self.dx) + 1\n",
    "        self.gbpoints = gb_width//self.dx + 1\n",
    "        self.boundary = [npoints//2 - gbpoints//2, npoints//2 + gbpoints//2]\n",
    "        self.composition = np.ones(self.npoints)\n",
    "    \n",
    "    def composition_solver(self, Energy, Diffusivity, Velocity):\n",
    "        \"\"\"\n",
    "        Calculates the composition profile for the initialized domain\n",
    "        Params\n",
    "        ------\n",
    "        Energy = Spatial variation of interaction potential\n",
    "        Diffusivity = Spatial variation of diffusivity\n",
    "        Velocity = Velocity of interface at steady state\n",
    "        \n",
    "        Returns\n",
    "        -------\n",
    "        composition : np array containing \n",
    "                        composition at various nodes\n",
    "        \"\"\"\n",
    "        pass\n",
    "    \n",
    "    def setup(self, **kwargs):\n",
    "        \"\"\"\n",
    "        Setup the diffusivity, energy based on the input\n",
    "        Params\n",
    "        ------\n",
    "        dict containing features to setup\n",
    "        \"\"\"\n",
    "        if kwargs is None:\n",
    "            return \n",
    "        if kwargs.pop('diff'):\n",
    "            diff = kwargs.pop('diff')\n",
    "            self.diffusivity = self.setup_diffusivity(diff)\n",
    "        if kwargs.pop('energy'):\n",
    "            energy = kwargs.pop('energy')\n",
    "            self.energy = self.setup_energy(energy)\n",
    "        \n",
    "    \n",
    "    def setup_diffusivity(self, diff_params):\n",
    "        \"\"\"\n",
    "        Setup Diffusivity profile\n",
    "        Params :\n",
    "        A list containing [bulk_diffusivity, boundary difusivity]\n",
    "        \"\"\"\n",
    "        bulk, boundary =  params[0], params[1]\n",
    "        diff_array = np.ones(self.npoints)*bulk\n",
    "        diff_array[self.boundary[0]:self.npoints] += \n",
    "    \n",
    "    def setup_energy():\n",
    "        \"\"\"\n",
    "        Setup Interaction Profile\n",
    "        \"\"\"\n",
    "        pass\n",
    "    \n",
    "    def gradient():\n",
    "        \"\"\"\n",
    "        Calculates the gradient for a given array\n",
    "        \"\"\"\n",
    "        pass\n",
    "    \n",
    "    def non_dimensionalize():\n",
    "        \"\"\"\n",
    "        Use non-dimensional parameters for solving the equation\n",
    "        \"\"\"\n",
    "        pass\n",
    "    \n",
    "    def solute_drag():\n",
    "        \"\"\"\n",
    "        Evaluate the drag pressure based on the model chosen\n",
    "        \"\"\"\n",
    "        "
   ]
  },
  {
   "cell_type": "markdown",
   "metadata": {},
   "source": [
    "# Initialize "
   ]
  },
  {
   "cell_type": "code",
   "execution_count": 29,
   "metadata": {},
   "outputs": [],
   "source": [
    "bulk_composition = 0.01 # In atomic percent\n",
    "length = 10. # in nanometers\n",
    "dx = 0.001 # Grid Spacing\n",
    "gb_width = 2. # in nanometers\n",
    "\n",
    "bulk_diff = 1E-13\n",
    "boundary_diff = 1E-12\n"
   ]
  },
  {
   "cell_type": "code",
   "execution_count": 54,
   "metadata": {},
   "outputs": [],
   "source": [
    "sd = SoluteDrag(bulk_composition, length, gb_width, dx)"
   ]
  },
  {
   "cell_type": "code",
   "execution_count": 55,
   "metadata": {},
   "outputs": [],
   "source": [
    "sd.setup()"
   ]
  },
  {
   "cell_type": "code",
   "execution_count": null,
   "metadata": {},
   "outputs": [],
   "source": [
    "sd.setup({'diff':[bulk_diff, boundary_diff],\n",
    "         'energy':[E0]})"
   ]
  }
 ],
 "metadata": {
  "kernelspec": {
   "display_name": "Python 3",
   "language": "python",
   "name": "python3"
  },
  "language_info": {
   "codemirror_mode": {
    "name": "ipython",
    "version": 3
   },
   "file_extension": ".py",
   "mimetype": "text/x-python",
   "name": "python",
   "nbconvert_exporter": "python",
   "pygments_lexer": "ipython3",
   "version": "3.6.5"
  }
 },
 "nbformat": 4,
 "nbformat_minor": 2
}
