{
 "cells": [
  {
   "cell_type": "markdown",
   "metadata": {},
   "source": [
    "The aim of this notebook is to evaluate the solute drag effect in a binary substitutional alloy using Cahn's solute drag model. The composition at steady state is evaluated by solving a second order linear differential equation. This profile is then used to calculate the drag pressure for a given velocity. Similar procedure is adopted for different velocities to obtain the variation of drag pressure with velocity."
   ]
  },
  {
   "cell_type": "markdown",
   "metadata": {},
   "source": [
    "The equation solved are:\n",
    "Composition :\n",
    "\n",
    "$$ D\\frac{d^2c}{dx^2} + \\frac{dc}{dx}(\\frac{dD}{dx} + \\frac{D}{kT}\\frac{dE}{dx} + V) + \\frac{c}{kT}(\\frac{dD}{dx} \\frac{dE}{dx} + D\\frac{d^2E}{dx^2} = 0)$$\n",
    "\n",
    "Solute drag:\n",
    "$$ P_{sd} = \\frac{1}{V_m} \\int_{-\\infty}^{\\infty} (c - c_0)\\frac{dE}{dx}dx $$"
   ]
  },
  {
   "cell_type": "markdown",
   "metadata": {},
   "source": [
    "Diffusion is assumed to vary inside the interface i.e. high diffusion inside the boundary than the bulk, Energy barrier is assumed to be a sharp well with peak at the midpoint. "
   ]
  },
  {
   "cell_type": "code",
   "execution_count": 7,
   "metadata": {},
   "outputs": [],
   "source": [
    "import numpy as np"
   ]
  },
  {
   "cell_type": "code",
   "execution_count": 184,
   "metadata": {},
   "outputs": [],
   "source": [
    "class SoluteDrag(object):\n",
    "    \"\"\"\n",
    "    Defines an object to solve the composition \n",
    "    profile at steady state and solute drag force \n",
    "    for a given composition, diffusivity, energy profile.\n",
    "    \n",
    "    Parameters\n",
    "    -----------\n",
    "    composition : Initial bulk composition\n",
    "    Energy : Interaction potential\n",
    "    Diffusivity \n",
    "    Temperature\n",
    "\n",
    "    \"\"\"\n",
    "\n",
    "    def __init__(self, nondimensionalize = True, **kwargs):\n",
    "        \n",
    "        if nondimensionalize:\n",
    "            self.database = self.nondimensionalize( **kwargs)\n",
    "        else :\n",
    "            self.database = kwargs\n",
    "        self.check_spacing() #Check the initialization of dx and npoints\n",
    "        self.epeak = self.database['energy']\n",
    "        self.vel = self.database['velocity']\n",
    "        self.length = self.database['length']\n",
    "        self.gbwidth = self.database['gb']\n",
    "        self.npoints = self.database['Nseg'] + 1\n",
    "        self.c0 = self.database['bulk_comp']\n",
    "        self.dx = self.database['dx']\n",
    "        \n",
    "        self.ngbpoints = int(self.gbwidth//self.dx + 1)\n",
    "        self.bidx = [(self.length - self.gbwidth)/(2*self.dx),(self.length - self.gbwidth)/(2*self.dx) + self.ngbpoints - 1]\n",
    "        self.composition = np.ones(self.npoints)*self.c0\n",
    "        \n",
    "    \n",
    "    def setup(self, param_array):\n",
    "        \"\"\"\n",
    "        Setup the diffusivity, energy based on the input\n",
    "        Params\n",
    "        ------\n",
    "        dict containing features to setup\n",
    "        \"\"\" \n",
    "        for item in param_array:\n",
    "            if self.database.get(item,False):\n",
    "                param = self.database[item]\n",
    "                if item == 'diff':\n",
    "                    self.diffusivity = self.setup_diffusivity(param)\n",
    "                    #print(self.diffusivity)\n",
    "                if item == 'energy':\n",
    "                    self.interaction = self.setup_energy(param)\n",
    "                    #print(self.interaction)\n",
    "    \n",
    "    def setup_diffusivity(self, params):\n",
    "        \"\"\"\n",
    "        Setup Diffusivity profile\n",
    "        Params :\n",
    "        A list containing [bulk_diffusivity, boundary difusivity]\n",
    "        \"\"\"\n",
    "        dbulk, dboundary =  params[0], params[1]\n",
    "        centre = self.npoints//2\n",
    "        diff_array = np.ones(self.npoints)*dbulk\n",
    "        gbseg = int(self.gbwidth//self.dx)\n",
    "        diff_array[centre : centre + gbseg//2  ] = np.ones(gbseg//2)*dboundary + np.arange(gbseg//2)*((dbulk - dboundary)/(gbseg//2)) \n",
    "        diff_array[centre - gbseg//2 : centre ] = np.ones(gbseg//2)*dbulk + np.arange(gbseg//2)*((dboundary - dbulk)/(gbseg//2)) \n",
    "        \n",
    "        return diff_array\n",
    "    \n",
    "    def setup_energy(self, params):\n",
    "        \"\"\"\n",
    "        Setup Interaction Profile\n",
    "        \"\"\"\n",
    "        if len(params) == 1:\n",
    "            estart = 0.0\n",
    "            epeak = params[0]\n",
    "        else :\n",
    "            estart = params[0]\n",
    "            epeak = params[1]\n",
    "        energy_array = np.ones(self.npoints)*estart\n",
    "        centre = self.npoints//2\n",
    "        gbseg = int(self.gbwidth//self.dx)\n",
    "        energy_array[centre : centre + gbseg//2  ] = np.ones(gbseg//2)*epeak + np.arange(gbseg//2)*((estart - epeak)/(gbseg//2)) \n",
    "        energy_array[centre - gbseg//2 : centre ] = np.ones(gbseg//2)*estart + np.arange(gbseg//2)*((epeak - estart)/(gbseg//2))\n",
    "        \n",
    "        return energy_array\n",
    "    \n",
    "    \n",
    "    def nondimensionalize(self, **kwargs):\n",
    "        \"\"\"\n",
    "        Use non-dimensional parameters for solving the equation\n",
    "        \"\"\"\n",
    "        nd_diff = kwargs['diff'][0] # Bulk Diffusivity\n",
    "        nd_length = 1.E-12 #General length scale of interface\n",
    "        nd_vel = nd_diff/nd_length # From the equation of flux\n",
    "        \n",
    "        print(\"Scaling Factors:\")\n",
    "        print(\"-------------------\")\n",
    "        print(\"Diffusivity = {}\".format(nd_diff))\n",
    "        print(\"Length = {}\".format(nd_length))\n",
    "        print(\"Velocity = {}\".format(nd_vel))\n",
    "        print(\"-------------------\")\n",
    "        #Substitute the values in dict\n",
    "        if kwargs.get('diff',False):\n",
    "            kwargs['diff'] = [x/nd_diff for x in kwargs['diff']]\n",
    "        for item in ['length','gb','dx']:\n",
    "            if kwargs.get(item,False):\n",
    "                kwargs[item] /= nd_length\n",
    "        if kwargs.get('velocity',False):   \n",
    "            kwargs['velocity'] /= nd_vel\n",
    "\n",
    "        \n",
    "        return kwargs\n",
    "    \n",
    "    def check_spacing(self):\n",
    "        Npoints,dx = self.database.get('Nseg',None), self.database.get('dx',None)\n",
    "        if Npoints is None:\n",
    "            self.database['Nseg'] = int(self.database['length']/self.database['dx'])\n",
    "        elif dx is None:\n",
    "            self.database['dx'] = self.database['length']/self.database['Nseg']\n",
    "        else:\n",
    "            if all(v is None for v in [dx,Npoints]):\n",
    "                printf(\"Need atleast dx or Npoints\")\n",
    "            else:\n",
    "                #Nsegments has the priority\n",
    "                self.database['dx'] = self.database['length']/self.database['Nseg']\n",
    "        \n",
    "    def solve_direct(self):\n",
    "    \n",
    "        ##boundary condition\n",
    "        self.composition[:2] = self.c0\n",
    "        \n",
    "        for k in range(2,self.npoints-1S):\n",
    "            \n",
    "            self.composition[k] = (2.*self.composition[k-1] - self.composition[k-2]) - (self.c1(k) + self.c2(k)) \n",
    "       \n",
    "        \n",
    "        return self.composition\n",
    "    \n",
    "    def c1(self, k):                                                                              \n",
    "        return (self.composition[k-1] - self.composition[k-2])*((1. - self.diffusivity[k-2]/self.diffusivity[k-1] ) + (self.interaction[k-1] - self.interaction[k-2]) + self.vel*self.dx/self.diffusivity[k-1])\n",
    "                                                                                       \n",
    "    def c2(self, k):\n",
    "        return self.composition[k-1]*((self.interaction[k-1] - self.interaction[k-2])*(1. - self.diffusivity[k-2]/self.diffusivity[k-1]) + self.interaction[k] + self.interaction[k-2] - 2.*self.interaction[k-1])\n",
    "                                                                                       \n",
    "                                                                                       \n",
    "    def solute_drag(self, composition, bulk, energy, model = \"Cahn\"):\n",
    "        \"\"\"\n",
    "        Evaluate the drag pressure based on the model chosen\n",
    "        \n",
    "        \"\"\"\n",
    "        pressure = 0.\n",
    "        if model == \"Cahn\":\n",
    "            for num in range(1,len(composition)):\n",
    "                pressure += -1*(composition[num]-bulk)*(energy[num] - energy[num-1])\n",
    "            return pressure\n",
    "        else:\n",
    "            return None\n",
    "            "
   ]
  },
  {
   "cell_type": "code",
   "execution_count": null,
   "metadata": {},
   "outputs": [],
   "source": [
    "class Visualization(object):\n",
    "    def __init__(self):\n",
    "        pass\n",
    "    "
   ]
  },
  {
   "cell_type": "markdown",
   "metadata": {},
   "source": [
    "# Analysis"
   ]
  },
  {
   "cell_type": "code",
   "execution_count": 9,
   "metadata": {},
   "outputs": [],
   "source": [
    "%matplotlib inline\n",
    "import matplotlib.pyplot as plt"
   ]
  },
  {
   "cell_type": "code",
   "execution_count": 185,
   "metadata": {},
   "outputs": [],
   "source": [
    "# @hidden_cell\n",
    "bulk_comp = 0.01 # In atomic percent\n",
    "length = 2.E-8 # in nanometers\n",
    "#dx = 5.E-12 # Grid Spacing\n",
    "Nseg = 10000 #Number of segments\n",
    "gb_width = 7.E-9 # in nanometers\n",
    "vel = 2e-7\n",
    "\n",
    "bulk_diff = 1E-11\n",
    "boundary_diff = 1E-10\n",
    "E0 = -20 #scaled"
   ]
  },
  {
   "cell_type": "markdown",
   "metadata": {},
   "source": [
    "Lets take boundary diffusivity as the control parameter, such that bulk diffusivity is always 1. In other words, scaling factor for non dimensional diffusivities is bulk diffusivity. Length is also non-dimensionalized, where a non dimensional parameter is eliminated by fixing $\\frac{l}{w}$ such that l is the lenth of the domain, and w is the width of the boundary. Here, scaling factor of Energy is taken as KT.  "
   ]
  },
  {
   "cell_type": "markdown",
   "metadata": {},
   "source": [
    "# Testing"
   ]
  },
  {
   "cell_type": "markdown",
   "metadata": {},
   "source": [
    "## Test - 1"
   ]
  },
  {
   "cell_type": "markdown",
   "metadata": {},
   "source": [
    "A zero velocity should result in symmetric profile for a potential well."
   ]
  },
  {
   "cell_type": "markdown",
   "metadata": {},
   "source": [
    "## Initialization"
   ]
  },
  {
   "cell_type": "code",
   "execution_count": 186,
   "metadata": {},
   "outputs": [],
   "source": [
    "# Use even length, Nseg and gb width for symmetric profile\n",
    "#non-dimensionalized parameters\n",
    "bulk_comp = 0.01 # In atomic percent\n",
    "length = 20. \n",
    "#dx = 1 # Grid Spacing\n",
    "Nseg = 500000\n",
    "gb_width = 10.\n",
    "vel = 0.0\n",
    "\n",
    "bulk_diff = 1.\n",
    "boundary_diff = 100.\n",
    "E0 = -2. #scaled with KT"
   ]
  },
  {
   "cell_type": "code",
   "execution_count": 187,
   "metadata": {},
   "outputs": [],
   "source": [
    "dict_params = {'diff':[bulk_diff, boundary_diff],\n",
    "               'energy':[E0], \n",
    "               'velocity':vel,\n",
    "               'length':length,\n",
    "               'gb':gb_width,\n",
    "               'Nseg':Nseg,\n",
    "              'bulk_comp':bulk_comp}\n",
    "\n",
    "sd = SoluteDrag(nondimensionalize = False, **dict_params)"
   ]
  },
  {
   "cell_type": "code",
   "execution_count": 188,
   "metadata": {},
   "outputs": [
    {
     "data": {
      "text/plain": [
       "{'diff': [1.0, 100.0],\n",
       " 'energy': [-2.0],\n",
       " 'velocity': 0.0,\n",
       " 'length': 20.0,\n",
       " 'gb': 10.0,\n",
       " 'Nseg': 500000,\n",
       " 'bulk_comp': 0.01,\n",
       " 'dx': 4e-05}"
      ]
     },
     "execution_count": 188,
     "metadata": {},
     "output_type": "execute_result"
    }
   ],
   "source": [
    "sd.database"
   ]
  },
  {
   "cell_type": "markdown",
   "metadata": {},
   "source": [
    "## Setup"
   ]
  },
  {
   "cell_type": "code",
   "execution_count": 189,
   "metadata": {},
   "outputs": [],
   "source": [
    "sd.setup(['diff','energy'])\n",
    "comp = sd.solve_direct()"
   ]
  },
  {
   "cell_type": "markdown",
   "metadata": {},
   "source": [
    "## Visualization"
   ]
  },
  {
   "cell_type": "code",
   "execution_count": 190,
   "metadata": {},
   "outputs": [
    {
     "data": {
      "text/plain": [
       "[Text(0,0.5,'c/$c_0$'), Text(0.5,0,'x/$\\\\delta$')]"
      ]
     },
     "execution_count": 190,
     "metadata": {},
     "output_type": "execute_result"
    },
    {
     "data": {
      "image/png": "[encoded data removed]",
      "text/plain": [
       "<Figure size 432x288 with 1 Axes>"
      ]
     },
     "metadata": {},
     "output_type": "display_data"
    }
   ],
   "source": [
    "fig, ax = plt.subplots()\n",
    "ax.plot(np.arange(-(Nseg+1)/2, (Nseg+1)/2)*sd.dx/gb_width,np.array(sd.composition/bulk_comp))\n",
    "ax.set(xlabel = r'x/$\\delta$', ylabel = r'c/$c_0$')"
   ]
  },
  {
   "cell_type": "code",
   "execution_count": 191,
   "metadata": {},
   "outputs": [
    {
     "name": "stdout",
     "output_type": "stream",
     "text": [
      "9.80435935309615e-07\n"
     ]
    }
   ],
   "source": [
    "drag = sd.solute_drag(sd.composition, sd.c0, sd.interaction)\n",
    "print(drag)"
   ]
  },
  {
   "cell_type": "markdown",
   "metadata": {},
   "source": [
    "## Test - 2 "
   ]
  },
  {
   "cell_type": "markdown",
   "metadata": {},
   "source": [
    "For similar potential, high boundary diffusivity and finite velocity should yield unsymmetrical profile such that a peak exist before the migrating interface, resulting in solute drag."
   ]
  },
  {
   "cell_type": "code",
   "execution_count": 192,
   "metadata": {},
   "outputs": [],
   "source": [
    "##Initialization\n",
    "# Use even length, Nseg and gb width for unsymmetric profile at a finite velocity\n",
    "# High boundary Diffusivity\n",
    "#non-dimensionalized parameters\n",
    "bulk_comp = 0.01 # In atomic percent\n",
    "length = 20. \n",
    "#dx = 1 # Grid Spacing\n",
    "Nseg = 500000\n",
    "gb_width = 10.\n",
    "vel = 5.0\n",
    "\n",
    "bulk_diff = 1.\n",
    "boundary_diff = 100.\n",
    "E0 = -2. #scaled with KT"
   ]
  },
  {
   "cell_type": "code",
   "execution_count": 193,
   "metadata": {},
   "outputs": [],
   "source": [
    "## Setup and Solution\n",
    "dict_params = {'diff':[bulk_diff, boundary_diff],\n",
    "               'energy':[E0], \n",
    "               'velocity':vel,\n",
    "               'length':length,\n",
    "               'gb':gb_width,\n",
    "               'Nseg':Nseg,\n",
    "              'bulk_comp':bulk_comp}\n",
    "\n",
    "sd = SoluteDrag(nondimensionalize = False, **dict_params)\n",
    "sd.setup(['diff','energy'])\n",
    "comp = sd.solve_direct()"
   ]
  },
  {
   "cell_type": "code",
   "execution_count": 194,
   "metadata": {},
   "outputs": [
    {
     "data": {
      "text/plain": [
       "[Text(0,0.5,'c/$c_0$'), Text(0.5,0,'x/$\\\\delta$')]"
      ]
     },
     "execution_count": 194,
     "metadata": {},
     "output_type": "execute_result"
    },
    {
     "data": {
      "image/png": "[encoded data removed]",
      "text/plain": [
       "<Figure size 432x288 with 1 Axes>"
      ]
     },
     "metadata": {},
     "output_type": "display_data"
    }
   ],
   "source": [
    "# Visualization\n",
    "fig, ax = plt.subplots()\n",
    "ax.plot(np.arange(-(Nseg+1)/2, (Nseg+1)/2)*sd.dx/gb_width,np.array(sd.composition/bulk_comp))\n",
    "ax.set(xlabel = r'x/$\\delta$', ylabel = r'c/$c_0$')"
   ]
  },
  {
   "cell_type": "code",
   "execution_count": 195,
   "metadata": {},
   "outputs": [
    {
     "name": "stdout",
     "output_type": "stream",
     "text": [
      "0.0075474693888791695\n"
     ]
    }
   ],
   "source": [
    "drag = sd.solute_drag(sd.composition, sd.c0, sd.interaction)\n",
    "print(drag)"
   ]
  },
  {
   "cell_type": "markdown",
   "metadata": {},
   "source": [
    "## Test - 3"
   ]
  },
  {
   "cell_type": "markdown",
   "metadata": {},
   "source": [
    "Similar to Test 2, but low grain boundary diffusivity compared to bulk (inhibited solute diffusion) should lead to a different profile of concentration."
   ]
  },
  {
   "cell_type": "code",
   "execution_count": 300,
   "metadata": {},
   "outputs": [],
   "source": [
    "##Initialization\n",
    "# Use even length, Nseg and gb width for unsymmetric profile at a finite velocity\n",
    "# High boundary Diffusivity\n",
    "#non-dimensionalized parameters\n",
    "bulk_comp = 0.01 # In atomic percent\n",
    "length = 20. \n",
    "#dx = 1 # Grid Spacing\n",
    "Nseg = 500000\n",
    "gb_width = 10.\n",
    "vel = 500.0\n",
    "\n",
    "bulk_diff = 1.\n",
    "boundary_diff = 0.01\n",
    "E0 = -2. #scaled with KT"
   ]
  },
  {
   "cell_type": "code",
   "execution_count": 301,
   "metadata": {},
   "outputs": [],
   "source": [
    "## Setup and Solution\n",
    "dict_params = {'diff':[bulk_diff, boundary_diff],\n",
    "               'energy':[E0], \n",
    "               'velocity':vel,\n",
    "               'length':length,\n",
    "               'gb':gb_width,\n",
    "               'Nseg':Nseg,\n",
    "              'bulk_comp':bulk_comp}\n",
    "\n",
    "sd = SoluteDrag(nondimensionalize = False, **dict_params)\n",
    "sd.setup(['diff','energy'])\n",
    "comp = sd.solve_direct()"
   ]
  },
  {
   "cell_type": "code",
   "execution_count": 310,
   "metadata": {},
   "outputs": [
    {
     "data": {
      "text/plain": [
       "array([0.01, 0.01, 0.01, ..., 0.01, 0.01, 0.01])"
      ]
     },
     "execution_count": 310,
     "metadata": {},
     "output_type": "execute_result"
    }
   ],
   "source": [
    "sd.composition"
   ]
  },
  {
   "cell_type": "code",
   "execution_count": 313,
   "metadata": {},
   "outputs": [
    {
     "data": {
      "text/plain": [
       "[Text(0,0.5,'c/$c_0$'), Text(0.5,0,'x/$\\\\delta$')]"
      ]
     },
     "execution_count": 313,
     "metadata": {},
     "output_type": "execute_result"
    },
    {
     "data": {
      "image/png": "[encoded data removed]",
      "text/plain": [
       "<Figure size 432x288 with 1 Axes>"
      ]
     },
     "metadata": {},
     "output_type": "display_data"
    }
   ],
   "source": [
    "# Visualization\n",
    "fig, ax = plt.subplots()\n",
    "ax.plot(np.arange(-(Nseg+1)/2, (Nseg+1)/2)*sd.dx/gb_width,(sd.composition/bulk_comp))\n",
    "ax.set(xlabel = r'x/$\\delta$', ylabel = r'c/$c_0$')"
   ]
  },
  {
   "cell_type": "code",
   "execution_count": 270,
   "metadata": {},
   "outputs": [
    {
     "name": "stdout",
     "output_type": "stream",
     "text": [
      "1.6153866026088444e-05\n"
     ]
    }
   ],
   "source": [
    "drag = sd.solute_drag(sd.composition, sd.c0, sd.interaction)\n",
    "print(drag)"
   ]
  },
  {
   "cell_type": "markdown",
   "metadata": {},
   "source": [
    "Qualitatively, the behaviour of drag pressure and composition profile is as expected. Lets look at the variation of drag pressure with velocity for both the cases for fixed ratio of bulk and boundary diffusivity."
   ]
  },
  {
   "cell_type": "code",
   "execution_count": 212,
   "metadata": {},
   "outputs": [],
   "source": [
    "## helper function which takes in different velocity and returns drag pressure\n",
    "def drag_velocity(vel, **dict_params):\n",
    "    dict_params['velocity'] = vel\n",
    "    sd = SoluteDrag(nondimensionalize = False, **dict_params)\n",
    "    sd.setup(['diff','energy'])\n",
    "    comp = sd.solve_direct()\n",
    "    drag = sd.solute_drag(sd.composition, sd.c0, sd.interaction)\n",
    "    return drag"
   ]
  },
  {
   "cell_type": "markdown",
   "metadata": {},
   "source": [
    "## Case - 1 : High Boundary Diffusivity"
   ]
  },
  {
   "cell_type": "code",
   "execution_count": 250,
   "metadata": {},
   "outputs": [],
   "source": [
    "## Bulk Diffusivity\n",
    "bulk_diff = 1.\n",
    "boundary_diff = 1.E2\n",
    "E0 = -2\n",
    "\n",
    "##Other Initial Parameters\n",
    "bulk_comp = 0.01 # In atomic percent\n",
    "length = 20. \n",
    "#dx = 1 # Grid Spacing\n",
    "Nseg = 500000\n",
    "gb_width = 10.\n",
    "\n",
    "## Velocity\n",
    "Velocity = np.linspace(1.0, 200.0, num = 100)"
   ]
  },
  {
   "cell_type": "code",
   "execution_count": 251,
   "metadata": {},
   "outputs": [],
   "source": [
    "## Setup \n",
    "dict_params = {'diff':[bulk_diff, boundary_diff],\n",
    "               'energy':[E0],\n",
    "               'length':length,\n",
    "                'gb':gb_width,\n",
    "               'Nseg':Nseg,\n",
    "              'bulk_comp':bulk_comp}"
   ]
  },
  {
   "cell_type": "code",
   "execution_count": 252,
   "metadata": {},
   "outputs": [],
   "source": [
    "# Solve\n",
    "drag = []\n",
    "for vel in Velocity:\n",
    "    drag.append(drag_velocity(vel, **dict_params))"
   ]
  },
  {
   "cell_type": "code",
   "execution_count": 253,
   "metadata": {},
   "outputs": [
    {
     "data": {
      "text/plain": [
       "[Text(0,0.5,'P'), Text(0.5,0,'v'), Text(0.5,1,'$D_{GB} = 10^2$')]"
      ]
     },
     "execution_count": 253,
     "metadata": {},
     "output_type": "execute_result"
    },
    {
     "data": {
      "image/png": "[encoded data removed]",
      "text/plain": [
       "<Figure size 432x288 with 1 Axes>"
      ]
     },
     "metadata": {},
     "output_type": "display_data"
    }
   ],
   "source": [
    "# Visualization\n",
    "fig, ax = plt.subplots()\n",
    "ax.plot(Velocity,drag)\n",
    "ax.set(xlabel = r'v', ylabel = r'P', title = r'$D_{GB} = 10^2$')"
   ]
  },
  {
   "cell_type": "markdown",
   "metadata": {},
   "source": [
    "For the clarity, a brief discussion of the scaling factors is described below:\n",
    "* Energy, and therefore, drag pressure is scaled with KT. (More specifically, drag pressure by KT/ Molar Volume)\n",
    "* Length is scaled such that the grain boundary width / current width is the scaling factor. \n",
    "* Diffusivity is scaled with bulk diffusivity\n",
    "* Velocity is scaled with the ratio of diffusivity and length scaling i.e. \n",
    "$$ v = \\frac{d}{\\epsilon}$$"
   ]
  },
  {
   "cell_type": "markdown",
   "metadata": {},
   "source": [
    "## Case II - Inhibited Solute diffusivity"
   ]
  },
  {
   "cell_type": "code",
   "execution_count": 262,
   "metadata": {},
   "outputs": [],
   "source": [
    "## Bulk Diffusivity\n",
    "bulk_diff = 1.\n",
    "boundary_diff = 1.E-2\n",
    "E0 = -2.\n",
    "\n",
    "##Other Initial Parameters\n",
    "bulk_comp = 0.01 # In atomic percent\n",
    "length = 20. \n",
    "#dx = 1 # Grid Spacing\n",
    "Nseg = 500000\n",
    "gb_width = 10.\n",
    "\n",
    "## Velocity\n",
    "Velocity = np.linspace(1.0, 200.0, num = 100)"
   ]
  },
  {
   "cell_type": "code",
   "execution_count": 259,
   "metadata": {},
   "outputs": [],
   "source": [
    "## Setup \n",
    "dict_params = {'diff':[bulk_diff, boundary_diff],\n",
    "               'energy':[E0],\n",
    "               'length':length,\n",
    "                'gb':gb_width,\n",
    "               'Nseg':Nseg,\n",
    "              'bulk_comp':bulk_comp}"
   ]
  },
  {
   "cell_type": "code",
   "execution_count": 260,
   "metadata": {},
   "outputs": [],
   "source": [
    "# Solve\n",
    "drag = []\n",
    "for vel in Velocity:\n",
    "    drag.append(drag_velocity(vel, **dict_params))"
   ]
  },
  {
   "cell_type": "code",
   "execution_count": 261,
   "metadata": {},
   "outputs": [
    {
     "data": {
      "text/plain": [
       "[Text(0,0.5,'P'), Text(0.5,0,'v'), Text(0.5,1,'$D_GB = 10^{-2}$')]"
      ]
     },
     "execution_count": 261,
     "metadata": {},
     "output_type": "execute_result"
    },
    {
     "data": {
      "image/png": "[encoded data removed]",
      "text/plain": [
       "<Figure size 432x288 with 1 Axes>"
      ]
     },
     "metadata": {},
     "output_type": "display_data"
    }
   ],
   "source": [
    "# Visualization\n",
    "fig, ax = plt.subplots()\n",
    "ax.plot(Velocity,drag)\n",
    "ax.set(xlabel = r'v', ylabel = r'P', title = r'$D_GB = 10^{-2}$')"
   ]
  },
  {
   "cell_type": "code",
   "execution_count": null,
   "metadata": {},
   "outputs": [],
   "source": []
  }
 ],
 "metadata": {
  "kernelspec": {
   "display_name": "Python 3",
   "language": "python",
   "name": "python3"
  },
  "language_info": {
   "codemirror_mode": {
    "name": "ipython",
    "version": 3
   },
   "file_extension": ".py",
   "mimetype": "text/x-python",
   "name": "python",
   "nbconvert_exporter": "python",
   "pygments_lexer": "ipython3",
   "version": "3.6.5"
  }
 },
 "nbformat": 4,
 "nbformat_minor": 2
}
