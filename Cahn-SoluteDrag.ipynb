{
 "cells": [
  {
   "cell_type": "markdown",
   "metadata": {},
   "source": [
    "The aim of this notebook is to evaluate the solute drag effect in a binary substitutional alloy using Cahn's solute drag model. The composition at steady state is evaluated by solving a second order linear differential equation. This profile is then used to calculate the drag pressure for a given velocity. Similar procedure is adopted for different velocities to obtain the variation of drag pressure with velocity."
   ]
  },
  {
   "cell_type": "markdown",
   "metadata": {},
   "source": [
    "The equation solved are:\n",
    "Composition :\n",
    "\n",
    "$$ D\\frac{d^2c}{dx^2} + \\frac{dc}{dx}(\\frac{dD}{dx} + \\frac{D}{kT}\\frac{dE}{dx} + V) + \\frac{c}{kT}(\\frac{dD}{dx} \\frac{dE}{dx} + D\\frac{d^2E}{dx^2} = 0)$$\n",
    "\n",
    "Solute drag:\n",
    "$$ P_{sd} = \\frac{1}{V_m} \\int_{-\\infty}^{\\infty} (c - c_0)\\frac{dE}{dx}dx $$"
   ]
  },
  {
   "cell_type": "markdown",
   "metadata": {},
   "source": [
    "Diffusion is assumed to vary inside the interface i.e. high diffusion inside the boundary than the bulk, Energy barrier is assumed to be a sharp well with peak at the midpoint. "
   ]
  },
  {
   "cell_type": "code",
   "execution_count": 123,
   "metadata": {},
   "outputs": [],
   "source": [
    "import numpy as np\n",
    "from scipy.sparse.linalg import spsolve as eigensolver\n",
    "from scipy.sparse import csr_matrix"
   ]
  },
  {
   "cell_type": "code",
   "execution_count": 486,
   "metadata": {},
   "outputs": [],
   "source": [
    "class SoluteDrag(object):\n",
    "    \"\"\"\n",
    "    Defines an object to solve the composition \n",
    "    profile at steady state and solute drag force \n",
    "    for a given composition, diffusivity, energy profile.\n",
    "    \n",
    "    Parameters\n",
    "    -----------\n",
    "    composition : Initial bulk composition\n",
    "    Energy : Interaction potential\n",
    "    Diffusivity \n",
    "    Temperature\n",
    "\n",
    "    \"\"\"\n",
    "\n",
    "    def __init__(self, nondimensionalize = True, **kwargs):\n",
    "        \n",
    "        if nondimensionalize:\n",
    "            self.database = self.nondimensionalize( **kwargs)\n",
    "        else :\n",
    "            self.database = kwargs\n",
    "        self.check_spacing() #Check the initialization of dx and npoints\n",
    "        self.epeak = self.database['energy']\n",
    "        self.vel = self.database['velocity']\n",
    "        self.length = self.database['length']\n",
    "        self.gbwidth = self.database['gb']\n",
    "        self.npoints = self.database['Nseg'] + 1\n",
    "        self.c0 = self.database['bulk_comp']\n",
    "        self.dx = self.database['dx']\n",
    "        \n",
    "        self.ngbpoints = int(self.gbwidth//self.dx + 1)\n",
    "        self.bidx = [self.npoints//2 - self.ngbpoints//2, self.npoints//2 + self.ngbpoints//2] ##Start and stop index of boundary points\n",
    "        self.composition = np.ones(self.npoints)*self.c0\n",
    "    \n",
    "    def solve_composition(self):\n",
    "        \"\"\"\n",
    "        Calculates the composition profile for the initialized domain\n",
    "        Returns\n",
    "        -------\n",
    "        composition : np array containing \n",
    "                        composition at various nodes at steady state\n",
    "        \"\"\"\n",
    "        ##For the matrix Ay\" + By' + Cy = 0\n",
    "        grad_D = np.gradient(self.diffusivity,self.dx)\n",
    "        grad_E = np.gradient(self.interaction,self.dx)\n",
    "        A = self.diffusivity\n",
    "        B = (grad_D + self.diffusivity*grad_E + np.ones(self.diffusivity.shape)*self.vel)\n",
    "        C = (grad_D*grad_E)\n",
    "        \n",
    "        \n",
    "        \n",
    "        # a1*c[k-1] + a2*c[k] + a3*c[k+1] = 0\n",
    "        sqdx = self.dx**2\n",
    "        #Boundary Condition \n",
    "        self.composition[0],self.composition[1] = self.c0,self.c0\n",
    "        \n",
    "        #solve\n",
    "        self.composition[2:] = [(-1/(A[k-1]/sqdx + B[k-1]/(2.*self.dx)))*(self.composition[k-1]*(C[k-1] - 2*A[k-1]/sqdx) + self.composition[k-2]*(A[k-1]/sqdx - B[k-1]/(2.*self.dx))) for k in range(2,self.npoints)]\n",
    "        #a1 = (A/sqdx - B/(2.*self.dx))\n",
    "        #a2 = (-2*A/sqdx + C)\n",
    "        #a3 = (A/sqdx + B/(2.*self.dx))\n",
    "        \n",
    "        #Matrix = np.diag(a1[2:-1],-1) + np.diag(a2[1:-1],0) + np.diag(a3[1:-2],1)\n",
    "        \n",
    "        #Matrix*Vec = c_vec\n",
    "        #c_vec = np.zeros(len(Matrix[0]))\n",
    "        \n",
    "        #Boundary Condition\n",
    "        #c_vec[0] = -a1[1]*self.c0\n",
    "        #c_vec[-1] = -a3[-1]*self.c0\n",
    "        \n",
    "        #solver\n",
    "        #comp_vec = eigensolver(csr_matrix(Matrix),c_vec)\n",
    "        #return comp_vec\n",
    "        \n",
    "        \n",
    "    \n",
    "    def setup(self, param_array):\n",
    "        \"\"\"\n",
    "        Setup the diffusivity, energy based on the input\n",
    "        Params\n",
    "        ------\n",
    "        dict containing features to setup\n",
    "        \"\"\" \n",
    "        for item in param_array:\n",
    "            if self.database.get(item,False):\n",
    "                param = self.database[item]\n",
    "                if item == 'diff':\n",
    "                    self.diffusivity = self.setup_diffusivity(param)\n",
    "                    #print(self.diffusivity)\n",
    "                if item == 'energy':\n",
    "                    self.interaction = self.setup_energy(param)\n",
    "                    #print(self.interaction)\n",
    "    \n",
    "    def setup_diffusivity(self, params):\n",
    "        \"\"\"\n",
    "        Setup Diffusivity profile\n",
    "        Params :\n",
    "        A list containing [bulk_diffusivity, boundary difusivity]\n",
    "        \"\"\"\n",
    "        dbulk, dboundary =  params[0], params[1]\n",
    "        diff_array = np.ones(self.npoints)*dbulk\n",
    "        diff_array[self.bidx[0]:self.npoints // 2] += np.arange(self.ngbpoints//2\n",
    "                                                                    ,dtype = np.float)*(dboundary - dbulk)/(self.ngbpoints//2)\n",
    "        diff_array[self.npoints // 2 : self.bidx[1]] += np.arange(self.ngbpoints//2 \n",
    "                                                                       ,dtype = np.float\n",
    "                                                                 )*(-dboundary + dbulk\n",
    "                                                                   )/(self.ngbpoints//2) +np.ones(self.ngbpoints//2,dtype \n",
    "                                                                                                  = np.float)*(dboundary-dbulk)\n",
    "        return diff_array\n",
    "    \n",
    "    def setup_energy(self, params):\n",
    "        \"\"\"\n",
    "        Setup Interaction Profile\n",
    "        \"\"\"\n",
    "        if len(params) == 1:\n",
    "            estart = 0.0\n",
    "            epeak = params[0]\n",
    "        else :\n",
    "            estart = params[0]\n",
    "            epeak = params[1]\n",
    "        energy_array = np.ones(self.npoints)*estart\n",
    "        energy_array[self.bidx[0]:self.npoints // 2] += np.arange(self.ngbpoints//2\n",
    "                                                                    ,dtype = np.float)*(epeak - estart)/(self.ngbpoints//2)\n",
    "        energy_array[self.npoints // 2 : self.bidx[1]:] += np.arange(self.ngbpoints//2 \n",
    "                                                                       ,dtype = np.float)*(\n",
    "            - epeak + estart)/(self.ngbpoints//2) + np.ones(self.ngbpoints//2,dtype \n",
    "                                                           = np.float)*(epeak-estart)\n",
    "        return energy_array\n",
    "    \n",
    "    \n",
    "    def nondimensionalize(self, **kwargs):\n",
    "        \"\"\"\n",
    "        Use non-dimensional parameters for solving the equation\n",
    "        \"\"\"\n",
    "        nd_diff = kwargs['diff'][0] # Bulk Diffusivity\n",
    "        nd_length = 1.E-11 #General length scale of interface\n",
    "        nd_vel = nd_diff/nd_length # From the equation of flux\n",
    "        \n",
    "        print(\"Scaling Factors:\")\n",
    "        print(\"-------------------\")\n",
    "        print(\"Diffusivity = {}\".format(nd_diff))\n",
    "        print(\"Length = {}\".format(nd_length))\n",
    "        print(\"Velocity = {}\".format(nd_vel))\n",
    "        print(\"-------------------\")\n",
    "        #Substitute the values in dict\n",
    "        if kwargs.get('diff',False):\n",
    "            kwargs['diff'] = [x/nd_diff for x in kwargs['diff']]\n",
    "        for item in ['length','gb','dx']:\n",
    "            if kwargs.get(item,False):\n",
    "                kwargs[item] /= nd_length\n",
    "        if kwargs.get('velocity',False):   \n",
    "            kwargs['velocity'] /= nd_vel\n",
    "        \n",
    "        #Fill in Npoints and/or dx, if not available\n",
    "        \n",
    "                    \n",
    "        print(kwargs)\n",
    "        return kwargs\n",
    "    \n",
    "    def check_spacing(self):\n",
    "        Npoints,dx = self.database.get('Nseg',None), self.database.get('dx',None)\n",
    "        if Npoints is None:\n",
    "            self.database['Nseg'] = int(self.database['length']/kwargs['dx'])\n",
    "        elif dx is None:\n",
    "            self.database['dx'] = self.database['length']/self.database['Nseg']\n",
    "        else:\n",
    "            if all(v is None for v in [dx,Npoints]):\n",
    "                printf(\"Need atleast dx or Npoints\")\n",
    "            else:\n",
    "                #Nsegments has the priority\n",
    "                self.database['dx'] = self.database['length']/self.database['Nseg']\n",
    "        \n",
    "    def solute_drag():\n",
    "        \"\"\"\n",
    "        Evaluate the drag pressure based on the model chosen\n",
    "        \"\"\"\n",
    "        pass\n",
    "    "
   ]
  },
  {
   "cell_type": "markdown",
   "metadata": {},
   "source": [
    "# Initialize "
   ]
  },
  {
   "cell_type": "code",
   "execution_count": 487,
   "metadata": {},
   "outputs": [],
   "source": [
    "bulk_comp = 0.01 # In atomic percent\n",
    "length = 1.E-8 # in nanometers\n",
    "#dx = 5.E-12 # Grid Spacing\n",
    "Nseg = 1000 #Number of segments\n",
    "gb_width = 3.E-10 # in nanometers\n",
    "vel = 0.1\n",
    "\n",
    "bulk_diff = 1E-11\n",
    "boundary_diff = 1E-11\n",
    "E0 = -2."
   ]
  },
  {
   "cell_type": "code",
   "execution_count": 500,
   "metadata": {},
   "outputs": [],
   "source": [
    "#non-dimensionalized parameters\n",
    "bulk_comp = 0.01 # In atomic percent\n",
    "length = 1000. \n",
    "dx = 1 # Grid Spacing\n",
    "#Nseg = 1000 \n",
    "gb_width = 300. \n",
    "vel = 10.\n",
    "\n",
    "bulk_diff = 1.\n",
    "boundary_diff = 1.\n",
    "E0 = -2."
   ]
  },
  {
   "cell_type": "code",
   "execution_count": 501,
   "metadata": {},
   "outputs": [],
   "source": [
    "dict_params = {'diff':[bulk_diff, boundary_diff],\n",
    "               'energy':[E0], \n",
    "               'velocity':vel,\n",
    "               'length':length,\n",
    "               'gb':gb_width,\n",
    "               'Nseg':Nseg,\n",
    "              'bulk_comp':bulk_comp}\n",
    "\n",
    "sd = SoluteDrag(nondimensionalize = False, **dict_params)"
   ]
  },
  {
   "cell_type": "code",
   "execution_count": 502,
   "metadata": {},
   "outputs": [
    {
     "data": {
      "text/plain": [
       "{'diff': [1.0, 1.0],\n",
       " 'energy': [-2.0],\n",
       " 'velocity': 10.0,\n",
       " 'length': 1000.0,\n",
       " 'gb': 300.0,\n",
       " 'Nseg': 1000,\n",
       " 'bulk_comp': 0.01,\n",
       " 'dx': 1.0}"
      ]
     },
     "execution_count": 502,
     "metadata": {},
     "output_type": "execute_result"
    }
   ],
   "source": [
    "sd.database"
   ]
  },
  {
   "cell_type": "code",
   "execution_count": 503,
   "metadata": {},
   "outputs": [],
   "source": [
    "sd.setup(['diff','energy'])\n",
    "comp = sd.solve_composition()"
   ]
  },
  {
   "cell_type": "code",
   "execution_count": 504,
   "metadata": {},
   "outputs": [],
   "source": [
    "%matplotlib inline\n",
    "import matplotlib.pyplot as plt"
   ]
  },
  {
   "cell_type": "code",
   "execution_count": 505,
   "metadata": {},
   "outputs": [
    {
     "data": {
      "text/plain": [
       "[<matplotlib.lines.Line2D at 0x7ffebaadfc50>]"
      ]
     },
     "execution_count": 505,
     "metadata": {},
     "output_type": "execute_result"
    },
    {
     "data": {
      "image/png": "[encoded data removed]",
      "text/plain": [
       "<Figure size 432x288 with 1 Axes>"
      ]
     },
     "metadata": {},
     "output_type": "display_data"
    }
   ],
   "source": [
    "plt.plot(np.arange(sd.npoints)*sd.dx,sd.composition)"
   ]
  }
 ],
 "metadata": {
  "kernelspec": {
   "display_name": "Python 3",
   "language": "python",
   "name": "python3"
  },
  "language_info": {
   "codemirror_mode": {
    "name": "ipython",
    "version": 3
   },
   "file_extension": ".py",
   "mimetype": "text/x-python",
   "name": "python",
   "nbconvert_exporter": "python",
   "pygments_lexer": "ipython3",
   "version": "3.6.5"
  }
 },
 "nbformat": 4,
 "nbformat_minor": 2
}
